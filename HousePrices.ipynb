{
  "nbformat": 4,
  "nbformat_minor": 0,
  "metadata": {
    "colab": {
      "provenance": []
    },
    "kernelspec": {
      "name": "python3",
      "display_name": "Python 3"
    },
    "language_info": {
      "name": "python"
    }
  },
  "cells": [
    {
      "cell_type": "code",
      "source": [
        "import pandas as pd\n",
        "import numpy as np\n",
        "from sklearn.model_selection import train_test_split, cross_val_score\n",
        "from sklearn.preprocessing import StandardScaler\n",
        "from sklearn.tree import DecisionTreeRegressor\n",
        "from sklearn.metrics import mean_squared_error, mean_absolute_error, r2_score\n",
        "\n",
        "train_df = pd.read_csv('/content/train.csv')\n",
        "test_df = pd.read_csv('/content/test.csv')\n",
        "\n",
        "numeric_cols = train_df.select_dtypes(include=[np.number]).columns.tolist()\n",
        "train_df[numeric_cols] = train_df[numeric_cols].fillna(train_df[numeric_cols].mean())\n",
        "\n",
        "common_numeric_cols = [col for col in numeric_cols if col in test_df.columns]\n",
        "\n",
        "test_df[common_numeric_cols] = test_df[common_numeric_cols].fillna(test_df[common_numeric_cols].mean())\n",
        "\n",
        "features = ['OverallQual', 'GrLivArea', 'GarageCars', 'TotalBsmtSF', 'FullBath', 'YearBuilt']\n",
        "\n",
        "target = 'SalePrice'\n",
        "\n",
        "X = train_df[features]\n",
        "y = train_df[target]\n",
        "\n",
        "X_train, X_test, y_train, y_test = train_test_split(X, y, test_size=0.2, random_state=42)\n",
        "\n",
        "scaler = StandardScaler()\n",
        "X_train = scaler.fit_transform(X_train)\n",
        "X_test = scaler.transform(X_test)\n",
        "\n",
        "model = DecisionTreeRegressor(random_state=42)\n",
        "model.fit(X_train, y_train)\n",
        "\n",
        "y_pred = model.predict(X_test)\n",
        "\n",
        "print('Mean Squared Error:', mean_squared_error(y_test, y_pred))\n",
        "print('Mean Absolute Error:', mean_absolute_error(y_test, y_pred))\n",
        "print('R2 Score:', r2_score(y_test, y_pred))\n",
        "\n",
        "scores = cross_val_score(model, X_train, y_train, cv=5)\n",
        "print('Cross-validated R2:', np.mean(scores))\n",
        "\n",
        "X_kaggle_test = test_df[features]\n",
        "X_kaggle_test = scaler.transform(X_kaggle_test)\n",
        "predictions = model.predict(X_kaggle_test)\n",
        "\n",
        "print('\\nResumo de previsões finais:')\n",
        "for i in range(5):\n",
        "    print(f'ID: {test_df[\"Id\"].iloc[i]}, SalePrice Predicted: {predictions[i]}')\n",
        "\n",
        "submission = pd.DataFrame({'Id': test_df['Id'], 'SalePrice': predictions})\n",
        "submission.to_csv('submission_decision_tree.csv', index=False)"
      ],
      "metadata": {
        "colab": {
          "base_uri": "https://localhost:8080/"
        },
        "id": "DblZ1oFoiCOW",
        "outputId": "ecd298fd-607d-4198-fce9-ee5c88d3d9a1"
      },
      "execution_count": 1,
      "outputs": [
        {
          "output_type": "stream",
          "name": "stdout",
          "text": [
            "Mean Squared Error: 1699691152.957382\n",
            "Mean Absolute Error: 26708.171232876713\n",
            "R2 Score: 0.7784069272875559\n",
            "Cross-validated R2: 0.6411315543236578\n",
            "\n",
            "Resumo de previsões finais:\n",
            "ID: 1461, SalePrice Predicted: 109500.0\n",
            "ID: 1462, SalePrice Predicted: 157000.0\n",
            "ID: 1463, SalePrice Predicted: 175000.0\n",
            "ID: 1464, SalePrice Predicted: 192000.0\n",
            "ID: 1465, SalePrice Predicted: 245500.0\n"
          ]
        }
      ]
    }
  ]
}
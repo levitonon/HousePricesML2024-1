{
  "nbformat": 4,
  "nbformat_minor": 0,
  "metadata": {
    "colab": {
      "provenance": []
    },
    "kernelspec": {
      "name": "python3",
      "display_name": "Python 3"
    },
    "language_info": {
      "name": "python"
    }
  },
  "cells": [
    {
      "cell_type": "code",
      "source": [
        "# Import de bibliotecas necessárias\n",
        "import pandas as pd\n",
        "import numpy as np\n",
        "from sklearn.model_selection import train_test_split, cross_val_score\n",
        "from sklearn.preprocessing import StandardScaler\n",
        "from sklearn.tree import DecisionTreeRegressor\n",
        "from sklearn.metrics import mean_squared_error, mean_absolute_error, r2_score"
      ],
      "metadata": {
        "id": "UOE8H3MWu1ad"
      },
      "execution_count": 8,
      "outputs": []
    },
    {
      "cell_type": "code",
      "source": [
        "# Datasets de treino e teste\n",
        "train_df = pd.read_csv('/content/train.csv')\n",
        "test_df = pd.read_csv('/content/test.csv')\n",
        "\n",
        "# Exibição dos datasets\n",
        "print(\"Visão do dataset 'train.csv':\")\n",
        "print(train_df.head())\n",
        "print(\"\\nVisão do dataset 'test.csv':\")\n",
        "print(test_df.head())"
      ],
      "metadata": {
        "colab": {
          "base_uri": "https://localhost:8080/"
        },
        "id": "8GjQVQD2xGGN",
        "outputId": "b7a42019-afc5-43e5-a719-48499cf21076"
      },
      "execution_count": 17,
      "outputs": [
        {
          "output_type": "stream",
          "name": "stdout",
          "text": [
            "Visão do dataset 'train.csv':\n",
            "   Id  MSSubClass MSZoning  LotFrontage  LotArea Street Alley LotShape  \\\n",
            "0   1          60       RL         65.0     8450   Pave   NaN      Reg   \n",
            "1   2          20       RL         80.0     9600   Pave   NaN      Reg   \n",
            "2   3          60       RL         68.0    11250   Pave   NaN      IR1   \n",
            "3   4          70       RL         60.0     9550   Pave   NaN      IR1   \n",
            "4   5          60       RL         84.0    14260   Pave   NaN      IR1   \n",
            "\n",
            "  LandContour Utilities  ... PoolArea PoolQC Fence MiscFeature MiscVal MoSold  \\\n",
            "0         Lvl    AllPub  ...        0    NaN   NaN         NaN       0      2   \n",
            "1         Lvl    AllPub  ...        0    NaN   NaN         NaN       0      5   \n",
            "2         Lvl    AllPub  ...        0    NaN   NaN         NaN       0      9   \n",
            "3         Lvl    AllPub  ...        0    NaN   NaN         NaN       0      2   \n",
            "4         Lvl    AllPub  ...        0    NaN   NaN         NaN       0     12   \n",
            "\n",
            "  YrSold  SaleType  SaleCondition  SalePrice  \n",
            "0   2008        WD         Normal     208500  \n",
            "1   2007        WD         Normal     181500  \n",
            "2   2008        WD         Normal     223500  \n",
            "3   2006        WD        Abnorml     140000  \n",
            "4   2008        WD         Normal     250000  \n",
            "\n",
            "[5 rows x 81 columns]\n",
            "\n",
            "Visão do dataset 'test.csv':\n",
            "     Id  MSSubClass MSZoning  LotFrontage  LotArea Street Alley LotShape  \\\n",
            "0  1461          20       RH         80.0    11622   Pave   NaN      Reg   \n",
            "1  1462          20       RL         81.0    14267   Pave   NaN      IR1   \n",
            "2  1463          60       RL         74.0    13830   Pave   NaN      IR1   \n",
            "3  1464          60       RL         78.0     9978   Pave   NaN      IR1   \n",
            "4  1465         120       RL         43.0     5005   Pave   NaN      IR1   \n",
            "\n",
            "  LandContour Utilities  ... ScreenPorch PoolArea PoolQC  Fence MiscFeature  \\\n",
            "0         Lvl    AllPub  ...         120        0    NaN  MnPrv         NaN   \n",
            "1         Lvl    AllPub  ...           0        0    NaN    NaN        Gar2   \n",
            "2         Lvl    AllPub  ...           0        0    NaN  MnPrv         NaN   \n",
            "3         Lvl    AllPub  ...           0        0    NaN    NaN         NaN   \n",
            "4         HLS    AllPub  ...         144        0    NaN    NaN         NaN   \n",
            "\n",
            "  MiscVal MoSold  YrSold  SaleType  SaleCondition  \n",
            "0       0      6    2010        WD         Normal  \n",
            "1   12500      6    2010        WD         Normal  \n",
            "2       0      3    2010        WD         Normal  \n",
            "3       0      6    2010        WD         Normal  \n",
            "4       0      1    2010        WD         Normal  \n",
            "\n",
            "[5 rows x 80 columns]\n"
          ]
        }
      ]
    },
    {
      "cell_type": "code",
      "source": [
        "# Estratégia para tratar valores faltantes nas colunas numéricas\n",
        "numeric_cols = train_df.select_dtypes(include=[np.number]).columns.tolist()\n",
        "train_df[numeric_cols] = train_df[numeric_cols].fillna(train_df[numeric_cols].mean())\n",
        "\n",
        "common_numeric_cols = [col for col in numeric_cols if col in test_df.columns]\n",
        "test_df[common_numeric_cols] = test_df[common_numeric_cols].fillna(test_df[common_numeric_cols].mean())\n",
        "\n",
        "# Seleção de características e alvo\n",
        "features = ['OverallQual', 'GrLivArea', 'GarageCars', 'TotalBsmtSF', 'FullBath', 'YearBuilt']\n",
        "target = 'SalePrice'\n",
        "X = train_df[features]\n",
        "y = train_df[target]"
      ],
      "metadata": {
        "id": "eybrVsMOxLP6"
      },
      "execution_count": 10,
      "outputs": []
    },
    {
      "cell_type": "code",
      "source": [
        "# Dividir dados em treino e teste\n",
        "X_train, X_test, y_train, y_test = train_test_split(X, y, test_size=0.2, random_state=42)\n",
        "\n",
        "# Padronizar as características\n",
        "scaler = StandardScaler()\n",
        "X_train = scaler.fit_transform(X_train)\n",
        "X_test = scaler.transform(X_test)\n",
        "\n",
        "# Criação e treino do modelo de Árvore de Decisão\n",
        "model = DecisionTreeRegressor(random_state=42)\n",
        "model.fit(X_train, y_train)\n",
        "\n",
        "# Previsões no conjunto de teste\n",
        "predictions = model.predict(X_test)"
      ],
      "metadata": {
        "id": "TjVpH1SGxXCU"
      },
      "execution_count": 11,
      "outputs": []
    },
    {
      "cell_type": "code",
      "source": [
        "# Avaliação do desempenho do conjunto de teste\n",
        "mse = mean_squared_error(y_test, predictions)\n",
        "mae = mean_absolute_error(y_test, predictions)\n",
        "r2 = r2_score(y_test, predictions)\n",
        "\n",
        "print('Mean Squared Error:', mse)\n",
        "print('Mean Absolute Error:', mae)\n",
        "print('R2 Score:', r2)\n",
        "\n",
        "# Ajuste de parâmentros com validação cruzada\n",
        "scores = cross_val_score(model, X_train, y_train, cv=5)\n",
        "cross_val_r2 = np.mean(scores)\n",
        "print('Cross-validated R2:', cross_val_r2)\n",
        "\n",
        "# Previsão dos preços das casas\n",
        "X_kaggle_test = test_df[features]\n",
        "X_kaggle_test = scaler.transform(X_kaggle_test)\n",
        "final_predictions = model.predict(X_kaggle_test)"
      ],
      "metadata": {
        "colab": {
          "base_uri": "https://localhost:8080/"
        },
        "id": "InF7xanUxbqy",
        "outputId": "460dd3ab-d942-4d71-f157-2f49bfe3eee0"
      },
      "execution_count": 12,
      "outputs": [
        {
          "output_type": "stream",
          "name": "stdout",
          "text": [
            "Mean Squared Error: 1699691152.957382\n",
            "Mean Absolute Error: 26708.171232876713\n",
            "R2 Score: 0.7784069272875559\n",
            "Cross-validated R2: 0.6411315543236578\n"
          ]
        }
      ]
    },
    {
      "cell_type": "code",
      "source": [
        "# Previsões finais\n",
        "print('\\nSeleção de 15 casas:')\n",
        "for i in range(15):  # Seleção das 15 primeiras casas\n",
        "    house_features = test_df.iloc[i][features].to_dict()  # Características da casa\n",
        "    print(f'ID: {test_df[\"Id\"].iloc[i]}, Preço previsto: {final_predictions[i]}, Características: {house_features}')"
      ],
      "metadata": {
        "colab": {
          "base_uri": "https://localhost:8080/"
        },
        "id": "Jswxdr1UxgY7",
        "outputId": "af1d9e0e-a2e8-4f9d-b561-b811e1572354"
      },
      "execution_count": 16,
      "outputs": [
        {
          "output_type": "stream",
          "name": "stdout",
          "text": [
            "\n",
            "Seleção de 15 casas:\n",
            "ID: 1461, Preço previsto: 109500.0, Características: {'OverallQual': 5, 'GrLivArea': 896, 'GarageCars': 1.0, 'TotalBsmtSF': 882.0, 'FullBath': 1, 'YearBuilt': 1961}\n",
            "ID: 1462, Preço previsto: 157000.0, Características: {'OverallQual': 6, 'GrLivArea': 1329, 'GarageCars': 1.0, 'TotalBsmtSF': 1329.0, 'FullBath': 1, 'YearBuilt': 1958}\n",
            "ID: 1463, Preço previsto: 175000.0, Características: {'OverallQual': 5, 'GrLivArea': 1629, 'GarageCars': 2.0, 'TotalBsmtSF': 928.0, 'FullBath': 2, 'YearBuilt': 1997}\n",
            "ID: 1464, Preço previsto: 192000.0, Características: {'OverallQual': 6, 'GrLivArea': 1604, 'GarageCars': 2.0, 'TotalBsmtSF': 926.0, 'FullBath': 2, 'YearBuilt': 1998}\n",
            "ID: 1465, Preço previsto: 245500.0, Características: {'OverallQual': 8, 'GrLivArea': 1280, 'GarageCars': 2.0, 'TotalBsmtSF': 1280.0, 'FullBath': 2, 'YearBuilt': 1992}\n",
            "ID: 1466, Preço previsto: 188000.0, Características: {'OverallQual': 6, 'GrLivArea': 1655, 'GarageCars': 2.0, 'TotalBsmtSF': 763.0, 'FullBath': 2, 'YearBuilt': 1993}\n",
            "ID: 1467, Preço previsto: 177500.0, Características: {'OverallQual': 6, 'GrLivArea': 1187, 'GarageCars': 2.0, 'TotalBsmtSF': 1168.0, 'FullBath': 2, 'YearBuilt': 1992}\n",
            "ID: 1468, Preço previsto: 177000.0, Características: {'OverallQual': 6, 'GrLivArea': 1465, 'GarageCars': 2.0, 'TotalBsmtSF': 789.0, 'FullBath': 2, 'YearBuilt': 1998}\n",
            "ID: 1469, Preço previsto: 180000.0, Características: {'OverallQual': 7, 'GrLivArea': 1341, 'GarageCars': 2.0, 'TotalBsmtSF': 1300.0, 'FullBath': 1, 'YearBuilt': 1990}\n",
            "ID: 1470, Preço previsto: 120500.0, Características: {'OverallQual': 4, 'GrLivArea': 882, 'GarageCars': 2.0, 'TotalBsmtSF': 882.0, 'FullBath': 1, 'YearBuilt': 1970}\n",
            "ID: 1471, Preço previsto: 207000.0, Características: {'OverallQual': 7, 'GrLivArea': 1337, 'GarageCars': 2.0, 'TotalBsmtSF': 1405.0, 'FullBath': 2, 'YearBuilt': 1999}\n",
            "ID: 1472, Preço previsto: 87450.0, Características: {'OverallQual': 6, 'GrLivArea': 987, 'GarageCars': 1.0, 'TotalBsmtSF': 483.0, 'FullBath': 1, 'YearBuilt': 1971}\n",
            "ID: 1473, Preço previsto: 139000.0, Características: {'OverallQual': 5, 'GrLivArea': 1092, 'GarageCars': 1.0, 'TotalBsmtSF': 525.0, 'FullBath': 1, 'YearBuilt': 1971}\n",
            "ID: 1474, Preço previsto: 148500.0, Características: {'OverallQual': 6, 'GrLivArea': 1456, 'GarageCars': 2.0, 'TotalBsmtSF': 855.0, 'FullBath': 2, 'YearBuilt': 1975}\n",
            "ID: 1475, Preço previsto: 184000.0, Características: {'OverallQual': 7, 'GrLivArea': 836, 'GarageCars': 1.0, 'TotalBsmtSF': 836.0, 'FullBath': 1, 'YearBuilt': 1975}\n"
          ]
        }
      ]
    }
  ]
}